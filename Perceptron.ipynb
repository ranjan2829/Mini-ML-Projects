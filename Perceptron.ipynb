{
  "nbformat": 4,
  "nbformat_minor": 0,
  "metadata": {
    "colab": {
      "provenance": [],
      "gpuType": "T4",
      "authorship_tag": "ABX9TyPm1lgelXdfHeD3PvYw1lc3",
      "include_colab_link": true
    },
    "kernelspec": {
      "name": "python3",
      "display_name": "Python 3"
    },
    "language_info": {
      "name": "python"
    },
    "accelerator": "GPU"
  },
  "cells": [
    {
      "cell_type": "markdown",
      "metadata": {
        "id": "view-in-github",
        "colab_type": "text"
      },
      "source": [
        "<a href=\"https://colab.research.google.com/github/ranjan2829/Mini-ML-Projects/blob/main/Perceptron.ipynb\" target=\"_parent\"><img src=\"https://colab.research.google.com/assets/colab-badge.svg\" alt=\"Open In Colab\"/></a>"
      ]
    },
    {
      "cell_type": "code",
      "source": [],
      "metadata": {
        "id": "94OCjgeioV6w"
      },
      "execution_count": 1,
      "outputs": []
    },
    {
      "cell_type": "code",
      "source": [
        "import numpy as np\n",
        "class Perceptron:\n",
        "  def __init__(self,input_size,lr=0.01,epochs=1000):\n",
        "    self.w=np.zeros(input_size+1)\n",
        "    self.lr=lr\n",
        "    self.epochs=epochs\n",
        "  def activation(self,x):\n",
        "    return 1 if x>=0 else 0\n",
        "  def predict(self,X):\n",
        "    X=np.insert(X,0,1)\n",
        "    return self.activation(np.dot(self.w,X))\n",
        "  def train(self,X_train,y_train):\n",
        "    for _ in range(self.epochs):\n",
        "      for X,y in zip(X_train,y_train):\n",
        "        y_pred=self.predict(X)\n",
        "        self.w+=self.lr*(y-y_pred)*np.insert(X,0,1)\n",
        "\n",
        "# Training data (OR logic gate)\n",
        "X_train = np.array([[0, 0], [0, 1], [1, 0], [1, 1]])\n",
        "y_train = np.array([0, 1, 1, 1])  # OR gate labels\n",
        "\n",
        "perceptron = Perceptron(input_size=2)\n",
        "perceptron.train(X_train, y_train)\n",
        "\n",
        "# Test the perceptron\n",
        "for X in X_train:\n",
        "    print(f\"Input: {X}, Prediction: {perceptron.predict(X)}\")\n"
      ],
      "metadata": {
        "colab": {
          "base_uri": "https://localhost:8080/"
        },
        "id": "1RCXdJ99JEnC",
        "outputId": "07116b8e-0b3d-4356-b53c-4f2d8752db70"
      },
      "execution_count": 2,
      "outputs": [
        {
          "output_type": "stream",
          "name": "stdout",
          "text": [
            "Input: [0 0], Prediction: 0\n",
            "Input: [0 1], Prediction: 1\n",
            "Input: [1 0], Prediction: 1\n",
            "Input: [1 1], Prediction: 1\n"
          ]
        }
      ]
    },
    {
      "cell_type": "code",
      "source": [],
      "metadata": {
        "id": "oSWMho2SKOBK"
      },
      "execution_count": null,
      "outputs": []
    }
  ]
}